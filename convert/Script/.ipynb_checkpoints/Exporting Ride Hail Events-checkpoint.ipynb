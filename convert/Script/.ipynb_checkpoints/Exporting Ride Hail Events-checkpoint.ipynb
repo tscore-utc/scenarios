{
 "cells": [
  {
   "cell_type": "code",
   "execution_count": 1,
   "id": "c4213012",
   "metadata": {},
   "outputs": [],
   "source": [
    "from bs4 import BeautifulSoup \n",
    "from lxml import etree as ET"
   ]
  },
  {
   "cell_type": "code",
   "execution_count": 3,
   "id": "2557ff24",
   "metadata": {},
   "outputs": [
    {
     "ename": "OSError",
     "evalue": "Error reading file '../SF-CHAMP Outputs/5.physSimEvents.xml': failed to load external entity \"../SF-CHAMP Outputs/5.physSimEvents.xml\"",
     "output_type": "error",
     "traceback": [
      "\u001b[1;31m---------------------------------------------------------------------------\u001b[0m",
      "\u001b[1;31mOSError\u001b[0m                                   Traceback (most recent call last)",
      "\u001b[1;32m<ipython-input-3-1bae682a7e54>\u001b[0m in \u001b[0;36m<module>\u001b[1;34m\u001b[0m\n\u001b[0;32m      1\u001b[0m \u001b[0mparser\u001b[0m \u001b[1;33m=\u001b[0m \u001b[0mET\u001b[0m\u001b[1;33m.\u001b[0m\u001b[0mXMLParser\u001b[0m\u001b[1;33m(\u001b[0m\u001b[0mremove_blank_text\u001b[0m\u001b[1;33m=\u001b[0m\u001b[1;32mTrue\u001b[0m\u001b[1;33m)\u001b[0m\u001b[1;33m\u001b[0m\u001b[1;33m\u001b[0m\u001b[0m\n\u001b[0;32m      2\u001b[0m \u001b[1;33m\u001b[0m\u001b[0m\n\u001b[1;32m----> 3\u001b[1;33m \u001b[0mevents\u001b[0m \u001b[1;33m=\u001b[0m \u001b[0mET\u001b[0m\u001b[1;33m.\u001b[0m\u001b[0mparse\u001b[0m\u001b[1;33m(\u001b[0m\u001b[1;34m'../SF-CHAMP Outputs/5.physSimEvents.xml'\u001b[0m\u001b[1;33m,\u001b[0m\u001b[0mparser\u001b[0m\u001b[1;33m)\u001b[0m\u001b[1;33m\u001b[0m\u001b[1;33m\u001b[0m\u001b[0m\n\u001b[0m",
      "\u001b[1;32msrc/lxml/etree.pyx\u001b[0m in \u001b[0;36mlxml.etree.parse\u001b[1;34m()\u001b[0m\n",
      "\u001b[1;32msrc/lxml/parser.pxi\u001b[0m in \u001b[0;36mlxml.etree._parseDocument\u001b[1;34m()\u001b[0m\n",
      "\u001b[1;32msrc/lxml/parser.pxi\u001b[0m in \u001b[0;36mlxml.etree._parseDocumentFromURL\u001b[1;34m()\u001b[0m\n",
      "\u001b[1;32msrc/lxml/parser.pxi\u001b[0m in \u001b[0;36mlxml.etree._parseDocFromFile\u001b[1;34m()\u001b[0m\n",
      "\u001b[1;32msrc/lxml/parser.pxi\u001b[0m in \u001b[0;36mlxml.etree._BaseParser._parseDocFromFile\u001b[1;34m()\u001b[0m\n",
      "\u001b[1;32msrc/lxml/parser.pxi\u001b[0m in \u001b[0;36mlxml.etree._ParserContext._handleParseResultDoc\u001b[1;34m()\u001b[0m\n",
      "\u001b[1;32msrc/lxml/parser.pxi\u001b[0m in \u001b[0;36mlxml.etree._handleParseResult\u001b[1;34m()\u001b[0m\n",
      "\u001b[1;32msrc/lxml/parser.pxi\u001b[0m in \u001b[0;36mlxml.etree._raiseParseError\u001b[1;34m()\u001b[0m\n",
      "\u001b[1;31mOSError\u001b[0m: Error reading file '../SF-CHAMP Outputs/5.physSimEvents.xml': failed to load external entity \"../SF-CHAMP Outputs/5.physSimEvents.xml\""
     ]
    }
   ],
   "source": [
    "parser = ET.XMLParser(remove_blank_text=True)\n",
    "\n",
    "events = ET.parse('../SF-CHAMP Outputs/5.physSimEvents.xml',parser)\n"
   ]
  },
  {
   "cell_type": "code",
   "execution_count": 21,
   "id": "19efac4d",
   "metadata": {},
   "outputs": [],
   "source": [
    "events_root=events.getroot()\n"
   ]
  },
  {
   "cell_type": "code",
   "execution_count": 24,
   "id": "32df67f0",
   "metadata": {},
   "outputs": [
    {
     "name": "stdout",
     "output_type": "stream",
     "text": [
      "{'time': '1.0E-4', 'type': 'departure', 'person': 'auto-1377078-1', 'link': '15926', 'legMode': 'car'}\n"
     ]
    }
   ],
   "source": [
    "print(events_root[2].attrib)"
   ]
  },
  {
   "cell_type": "code",
   "execution_count": 26,
   "id": "6b70cd5a",
   "metadata": {},
   "outputs": [],
   "source": [
    "for g in events_root.findall('./event'):\n",
    "    \n",
    "    if g.attrib.get('vehicle')==None:\n",
    "        comp=g.attrib.get('person')\n",
    "    if g.attrib.get('person')==None:\n",
    "        comp=g.attrib.get('vehicle') \n",
    "    if 'rideHailVehicle' not in comp:\n",
    "        events_root.remove(g)\n",
    "    \n",
    "element_tree=ET.ElementTree(events_root)\n",
    "element_tree.write('../Network/rideHailEvents2.xml', pretty_print=True, xml_declaration=True,   encoding=\"utf-8\")"
   ]
  },
  {
   "cell_type": "code",
   "execution_count": null,
   "id": "ff0c5ecf",
   "metadata": {},
   "outputs": [],
   "source": []
  }
 ],
 "metadata": {
  "kernelspec": {
   "display_name": "Python 3",
   "language": "python",
   "name": "python3"
  },
  "language_info": {
   "codemirror_mode": {
    "name": "ipython",
    "version": 3
   },
   "file_extension": ".py",
   "mimetype": "text/x-python",
   "name": "python",
   "nbconvert_exporter": "python",
   "pygments_lexer": "ipython3",
   "version": "3.8.8"
  }
 },
 "nbformat": 4,
 "nbformat_minor": 5
}
