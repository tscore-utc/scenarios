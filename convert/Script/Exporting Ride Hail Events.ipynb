{
 "cells": [
  {
   "cell_type": "code",
   "execution_count": 1,
   "id": "c4213012",
   "metadata": {},
   "outputs": [],
   "source": [
    "from bs4 import BeautifulSoup \n",
    "from lxml import etree as ET"
   ]
  },
  {
   "cell_type": "code",
   "execution_count": 20,
   "id": "2557ff24",
   "metadata": {},
   "outputs": [],
   "source": [
    "parser = ET.XMLParser(remove_blank_text=True)\n",
    "\n",
    "events = ET.parse('../Network/5.physSimEvents.xml',parser)\n"
   ]
  },
  {
   "cell_type": "code",
   "execution_count": 21,
   "id": "19efac4d",
   "metadata": {},
   "outputs": [],
   "source": [
    "events_root=events.getroot()\n"
   ]
  },
  {
   "cell_type": "code",
   "execution_count": 24,
   "id": "32df67f0",
   "metadata": {},
   "outputs": [
    {
     "name": "stdout",
     "output_type": "stream",
     "text": [
      "{'time': '1.0E-4', 'type': 'departure', 'person': 'auto-1377078-1', 'link': '15926', 'legMode': 'car'}\n"
     ]
    }
   ],
   "source": [
    "print(events_root[2].attrib)"
   ]
  },
  {
   "cell_type": "code",
   "execution_count": 26,
   "id": "6b70cd5a",
   "metadata": {},
   "outputs": [],
   "source": [
    "for g in events_root.findall('./event'):\n",
    "    \n",
    "    if g.attrib.get('vehicle')==None:\n",
    "        comp=g.attrib.get('person')\n",
    "    if g.attrib.get('person')==None:\n",
    "        comp=g.attrib.get('vehicle') \n",
    "    if 'rideHailVehicle' not in comp:\n",
    "        events_root.remove(g)\n",
    "    \n",
    "element_tree=ET.ElementTree(events_root)\n",
    "element_tree.write('../Network/rideHailEvents2.xml', pretty_print=True, xml_declaration=True,   encoding=\"utf-8\")"
   ]
  },
  {
   "cell_type": "code",
   "execution_count": null,
   "id": "ff0c5ecf",
   "metadata": {},
   "outputs": [],
   "source": []
  }
 ],
 "metadata": {
  "kernelspec": {
   "display_name": "Python 3",
   "language": "python",
   "name": "python3"
  },
  "language_info": {
   "codemirror_mode": {
    "name": "ipython",
    "version": 3
   },
   "file_extension": ".py",
   "mimetype": "text/x-python",
   "name": "python",
   "nbconvert_exporter": "python",
   "pygments_lexer": "ipython3",
   "version": "3.8.8"
  }
 },
 "nbformat": 4,
 "nbformat_minor": 5
}
