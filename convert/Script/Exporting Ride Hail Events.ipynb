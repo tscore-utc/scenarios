{
 "cells": [
  {
   "cell_type": "code",
   "execution_count": 1,
   "id": "c4213012",
   "metadata": {},
   "outputs": [],
   "source": [
    "from bs4 import BeautifulSoup \n",
    "from lxml import etree as ET"
   ]
  },
  {
   "cell_type": "code",
   "execution_count": 2,
   "id": "2557ff24",
   "metadata": {},
   "outputs": [],
   "source": [
    "parser = ET.XMLParser(remove_blank_text=True)\n",
    "\n",
    "events = ET.parse('../SF-CHAMP Outputs/15.physSimEvents.xml.gz',parser)\n"
   ]
  },
  {
   "cell_type": "code",
   "execution_count": 3,
   "id": "19efac4d",
   "metadata": {},
   "outputs": [],
   "source": [
    "events_root=events.getroot()\n"
   ]
  },
  {
   "cell_type": "code",
   "execution_count": 8,
   "id": "e4a15ffb",
   "metadata": {},
   "outputs": [
    {
     "data": {
      "text/plain": [
       "17481995"
      ]
     },
     "execution_count": 8,
     "metadata": {},
     "output_type": "execute_result"
    }
   ],
   "source": [
    "len(list(events_root))"
   ]
  },
  {
   "cell_type": "code",
   "execution_count": 15,
   "id": "be06d827",
   "metadata": {},
   "outputs": [
    {
     "name": "stdout",
     "output_type": "stream",
     "text": [
      "<Element events at 0x20e3fe6ddc0>\n"
     ]
    }
   ],
   "source": [
    "print(events_root)"
   ]
  },
  {
   "cell_type": "code",
   "execution_count": 16,
   "id": "32df67f0",
   "metadata": {},
   "outputs": [
    {
     "name": "stdout",
     "output_type": "stream",
     "text": [
      "auto-333703-0\n"
     ]
    }
   ],
   "source": [
    "print(events_root[808].attrib['person'])"
   ]
  },
  {
   "cell_type": "code",
   "execution_count": 26,
   "id": "6b70cd5a",
   "metadata": {},
   "outputs": [],
   "source": [
    "for g in events_root.findall('./event'):\n",
    "    \n",
    "    if g.attrib.get('vehicle')==None:\n",
    "        comp=g.attrib.get('person')\n",
    "    if g.attrib.get('person')==None:\n",
    "        comp=g.attrib.get('vehicle') \n",
    "    if 'rideHailVehicle' not in comp:\n",
    "        events_root.remove(g)\n",
    "    \n",
    "element_tree=ET.ElementTree(events_root)\n",
    "element_tree.write('../Network/rideHailEvents2.xml', pretty_print=True, xml_declaration=True,   encoding=\"utf-8\")"
   ]
  },
  {
   "cell_type": "code",
   "execution_count": 17,
   "id": "ff0c5ecf",
   "metadata": {},
   "outputs": [
    {
     "name": "stdout",
     "output_type": "stream",
     "text": [
      "<Element event at 0x2134573d0c0>\n"
     ]
    }
   ],
   "source": [
    "for g in events_root.findall('./event'):\n",
    "    \n",
    "    if g.attrib.get('vehicle')==None:\n",
    "        comp=g.attrib.get('person')\n",
    "    if g.attrib.get('person')==None:\n",
    "        comp=g.attrib.get('vehicle') \n",
    "    if 'auto' not in comp:\n",
    "        events_root.remove(g)\n",
    "        \n",
    "print(g)"
   ]
  },
  {
   "cell_type": "code",
   "execution_count": 18,
   "id": "f14dd343",
   "metadata": {},
   "outputs": [
    {
     "name": "stdout",
     "output_type": "stream",
     "text": [
      "<lxml.etree._ElementTree object at 0x00000212FFCF1240>\n"
     ]
    }
   ],
   "source": [
    "element_tree=ET.ElementTree(events_root)\n",
    "print(element_tree)"
   ]
  },
  {
   "cell_type": "code",
   "execution_count": null,
   "id": "f6490cfa",
   "metadata": {},
   "outputs": [],
   "source": [
    "element_tree.write('../SF-CHA/rideHailEvents2.xml', pretty_print=True, xml_declaration=True,   encoding=\"utf-8\")"
   ]
  }
 ],
 "metadata": {
  "kernelspec": {
   "display_name": "Python 3",
   "language": "python",
   "name": "python3"
  },
  "language_info": {
   "codemirror_mode": {
    "name": "ipython",
    "version": 3
   },
   "file_extension": ".py",
   "mimetype": "text/x-python",
   "name": "python",
   "nbconvert_exporter": "python",
   "pygments_lexer": "ipython3",
   "version": "3.8.8"
  }
 },
 "nbformat": 4,
 "nbformat_minor": 5
}
