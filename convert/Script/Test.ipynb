{
 "cells": [
  {
   "cell_type": "code",
   "execution_count": 1,
   "metadata": {},
   "outputs": [],
   "source": [
    "import pandas as pd\n",
    "import numpy as np"
   ]
  },
  {
   "cell_type": "code",
   "execution_count": 2,
   "metadata": {},
   "outputs": [],
   "source": [
    "taz=pd.read_csv('taz-centers-updated.csv')\n",
    "parking=pd.read_csv('sf-taz-parking-nochargers.csv')"
   ]
  },
  {
   "cell_type": "code",
   "execution_count": 3,
   "metadata": {},
   "outputs": [
    {
     "data": {
      "text/html": [
       "<div>\n",
       "<style scoped>\n",
       "    .dataframe tbody tr th:only-of-type {\n",
       "        vertical-align: middle;\n",
       "    }\n",
       "\n",
       "    .dataframe tbody tr th {\n",
       "        vertical-align: top;\n",
       "    }\n",
       "\n",
       "    .dataframe thead th {\n",
       "        text-align: right;\n",
       "    }\n",
       "</style>\n",
       "<table border=\"1\" class=\"dataframe\">\n",
       "  <thead>\n",
       "    <tr style=\"text-align: right;\">\n",
       "      <th></th>\n",
       "      <th>taz</th>\n",
       "      <th>coord-x</th>\n",
       "      <th>coord-y</th>\n",
       "      <th>area</th>\n",
       "    </tr>\n",
       "  </thead>\n",
       "  <tbody>\n",
       "    <tr>\n",
       "      <th>0</th>\n",
       "      <td>101157</td>\n",
       "      <td>544532.7731</td>\n",
       "      <td>4179499.181</td>\n",
       "      <td>153481.98460</td>\n",
       "    </tr>\n",
       "    <tr>\n",
       "      <th>1</th>\n",
       "      <td>100831</td>\n",
       "      <td>552235.2007</td>\n",
       "      <td>4179674.298</td>\n",
       "      <td>94747.03173</td>\n",
       "    </tr>\n",
       "    <tr>\n",
       "      <th>2</th>\n",
       "      <td>100692</td>\n",
       "      <td>550357.9398</td>\n",
       "      <td>4179739.544</td>\n",
       "      <td>70161.82309</td>\n",
       "    </tr>\n",
       "    <tr>\n",
       "      <th>3</th>\n",
       "      <td>201542</td>\n",
       "      <td>550204.5620</td>\n",
       "      <td>4165888.847</td>\n",
       "      <td>523975.64990</td>\n",
       "    </tr>\n",
       "    <tr>\n",
       "      <th>4</th>\n",
       "      <td>201552</td>\n",
       "      <td>547910.6868</td>\n",
       "      <td>4166055.942</td>\n",
       "      <td>314182.33330</td>\n",
       "    </tr>\n",
       "  </tbody>\n",
       "</table>\n",
       "</div>"
      ],
      "text/plain": [
       "      taz      coord-x      coord-y          area\n",
       "0  101157  544532.7731  4179499.181  153481.98460\n",
       "1  100831  552235.2007  4179674.298   94747.03173\n",
       "2  100692  550357.9398  4179739.544   70161.82309\n",
       "3  201542  550204.5620  4165888.847  523975.64990\n",
       "4  201552  547910.6868  4166055.942  314182.33330"
      ]
     },
     "execution_count": 3,
     "metadata": {},
     "output_type": "execute_result"
    }
   ],
   "source": [
    "taz.head()"
   ]
  },
  {
   "cell_type": "code",
   "execution_count": 4,
   "metadata": {},
   "outputs": [
    {
     "data": {
      "text/html": [
       "<div>\n",
       "<style scoped>\n",
       "    .dataframe tbody tr th:only-of-type {\n",
       "        vertical-align: middle;\n",
       "    }\n",
       "\n",
       "    .dataframe tbody tr th {\n",
       "        vertical-align: top;\n",
       "    }\n",
       "\n",
       "    .dataframe thead th {\n",
       "        text-align: right;\n",
       "    }\n",
       "</style>\n",
       "<table border=\"1\" class=\"dataframe\">\n",
       "  <thead>\n",
       "    <tr style=\"text-align: right;\">\n",
       "      <th></th>\n",
       "      <th>taz</th>\n",
       "      <th>parkingType</th>\n",
       "      <th>pricingModel</th>\n",
       "      <th>chargingType</th>\n",
       "      <th>numStalls</th>\n",
       "      <th>feeInCents</th>\n",
       "      <th>ReservedFor</th>\n",
       "    </tr>\n",
       "  </thead>\n",
       "  <tbody>\n",
       "    <tr>\n",
       "      <th>0</th>\n",
       "      <td>101157</td>\n",
       "      <td>Residential</td>\n",
       "      <td>Block</td>\n",
       "      <td>NoCharger</td>\n",
       "      <td>412</td>\n",
       "      <td>0.0</td>\n",
       "      <td>Any</td>\n",
       "    </tr>\n",
       "    <tr>\n",
       "      <th>1</th>\n",
       "      <td>100831</td>\n",
       "      <td>Residential</td>\n",
       "      <td>Block</td>\n",
       "      <td>NoCharger</td>\n",
       "      <td>139</td>\n",
       "      <td>0.0</td>\n",
       "      <td>Any</td>\n",
       "    </tr>\n",
       "    <tr>\n",
       "      <th>2</th>\n",
       "      <td>100831</td>\n",
       "      <td>Workplace</td>\n",
       "      <td>Block</td>\n",
       "      <td>NoCharger</td>\n",
       "      <td>17</td>\n",
       "      <td>0.0</td>\n",
       "      <td>Any</td>\n",
       "    </tr>\n",
       "    <tr>\n",
       "      <th>3</th>\n",
       "      <td>100692</td>\n",
       "      <td>Residential</td>\n",
       "      <td>Block</td>\n",
       "      <td>NoCharger</td>\n",
       "      <td>256</td>\n",
       "      <td>0.0</td>\n",
       "      <td>Any</td>\n",
       "    </tr>\n",
       "    <tr>\n",
       "      <th>4</th>\n",
       "      <td>100692</td>\n",
       "      <td>Workplace</td>\n",
       "      <td>Block</td>\n",
       "      <td>NoCharger</td>\n",
       "      <td>106</td>\n",
       "      <td>0.0</td>\n",
       "      <td>Any</td>\n",
       "    </tr>\n",
       "  </tbody>\n",
       "</table>\n",
       "</div>"
      ],
      "text/plain": [
       "      taz  parkingType pricingModel chargingType  numStalls  feeInCents  \\\n",
       "0  101157  Residential        Block    NoCharger        412         0.0   \n",
       "1  100831  Residential        Block    NoCharger        139         0.0   \n",
       "2  100831    Workplace        Block    NoCharger         17         0.0   \n",
       "3  100692  Residential        Block    NoCharger        256         0.0   \n",
       "4  100692    Workplace        Block    NoCharger        106         0.0   \n",
       "\n",
       "  ReservedFor  \n",
       "0         Any  \n",
       "1         Any  \n",
       "2         Any  \n",
       "3         Any  \n",
       "4         Any  "
      ]
     },
     "execution_count": 4,
     "metadata": {},
     "output_type": "execute_result"
    }
   ],
   "source": [
    "parking.head()"
   ]
  },
  {
   "cell_type": "code",
   "execution_count": 6,
   "metadata": {},
   "outputs": [
    {
     "data": {
      "text/html": [
       "<div>\n",
       "<style scoped>\n",
       "    .dataframe tbody tr th:only-of-type {\n",
       "        vertical-align: middle;\n",
       "    }\n",
       "\n",
       "    .dataframe tbody tr th {\n",
       "        vertical-align: top;\n",
       "    }\n",
       "\n",
       "    .dataframe thead th {\n",
       "        text-align: right;\n",
       "    }\n",
       "</style>\n",
       "<table border=\"1\" class=\"dataframe\">\n",
       "  <thead>\n",
       "    <tr style=\"text-align: right;\">\n",
       "      <th></th>\n",
       "      <th>taz</th>\n",
       "      <th>coord-x</th>\n",
       "      <th>coord-y</th>\n",
       "      <th>area</th>\n",
       "      <th>parkingType</th>\n",
       "      <th>pricingModel</th>\n",
       "      <th>chargingType</th>\n",
       "      <th>numStalls</th>\n",
       "      <th>feeInCents</th>\n",
       "      <th>ReservedFor</th>\n",
       "      <th>_merge</th>\n",
       "    </tr>\n",
       "  </thead>\n",
       "  <tbody>\n",
       "  </tbody>\n",
       "</table>\n",
       "</div>"
      ],
      "text/plain": [
       "Empty DataFrame\n",
       "Columns: [taz, coord-x, coord-y, area, parkingType, pricingModel, chargingType, numStalls, feeInCents, ReservedFor, _merge]\n",
       "Index: []"
      ]
     },
     "execution_count": 6,
     "metadata": {},
     "output_type": "execute_result"
    }
   ],
   "source": [
    "test=pd.merge(taz,parking,on=['taz'],how='outer',indicator=True)\n",
    "test[test['_merge']!='both']"
   ]
  },
  {
   "cell_type": "code",
   "execution_count": 9,
   "metadata": {},
   "outputs": [
    {
     "data": {
      "text/plain": [
       "Index(['taz', 'parkingType', 'pricingModel', 'chargingPointType', 'numStalls',\n",
       "       'feeInCents', 'reservedFor'],\n",
       "      dtype='object')"
      ]
     },
     "execution_count": 9,
     "metadata": {},
     "output_type": "execute_result"
    }
   ],
   "source": [
    "parking=parking.rename(columns={'chargingType':'chargingPointType',\n",
    "                                'ReservedFor':'reservedFor'}\n",
    "                      )\n",
    "parking.columns"
   ]
  },
  {
   "cell_type": "code",
   "execution_count": 10,
   "metadata": {},
   "outputs": [],
   "source": [
    "parking.to_csv('sf-taz-parking-nochargers-updated.csv',index=False)"
   ]
  },
  {
   "cell_type": "code",
   "execution_count": null,
   "metadata": {},
   "outputs": [],
   "source": [
    "  \"taz\",\n",
    "    \"parkingType\",\n",
    "    \"pricingModel\",\n",
    "    \"chargingPointType\",\n",
    "    \"numStalls\",\n",
    "    \"feeInCents\",\n",
    "    \"reservedFor\",\n",
    "    \"timeRestrictions\",\n",
    "    \"parkingZoneId\""
   ]
  }
 ],
 "metadata": {
  "kernelspec": {
   "display_name": "Python 3",
   "language": "python",
   "name": "python3"
  },
  "language_info": {
   "codemirror_mode": {
    "name": "ipython",
    "version": 3
   },
   "file_extension": ".py",
   "mimetype": "text/x-python",
   "name": "python",
   "nbconvert_exporter": "python",
   "pygments_lexer": "ipython3",
   "version": "3.8.5"
  }
 },
 "nbformat": 4,
 "nbformat_minor": 4
}
